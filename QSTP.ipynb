{
  "nbformat": 4,
  "nbformat_minor": 0,
  "metadata": {
    "colab": {
      "name": "QSTP.ipynb",
      "provenance": [],
      "collapsed_sections": [
        "5Ibu2sk79weh"
      ],
      "authorship_tag": "ABX9TyNUWjKUkRoxscvbGznxvT+e",
      "include_colab_link": true
    },
    "kernelspec": {
      "name": "python3",
      "display_name": "Python 3"
    },
    "language_info": {
      "name": "python"
    }
  },
  "cells": [
    {
      "cell_type": "markdown",
      "metadata": {
        "id": "view-in-github",
        "colab_type": "text"
      },
      "source": [
        "<a href=\"https://colab.research.google.com/github/SuhrudhSarathy/QSTP_AerialRobotics_2021/blob/main/QSTP.ipynb\" target=\"_parent\"><img src=\"https://colab.research.google.com/assets/colab-badge.svg\" alt=\"Open In Colab\"/></a>"
      ]
    },
    {
      "cell_type": "markdown",
      "metadata": {
        "id": "5Ibu2sk79weh"
      },
      "source": [
        "## **First Code in Python**"
      ]
    },
    {
      "cell_type": "code",
      "metadata": {
        "colab": {
          "base_uri": "https://localhost:8080/"
        },
        "id": "QT-3SPS79sx9",
        "outputId": "b737a0dc-15a3-411e-f8b0-52d8bd32a11a"
      },
      "source": [
        "print(\"Hello World\")"
      ],
      "execution_count": null,
      "outputs": [
        {
          "output_type": "stream",
          "text": [
            "Hello World\n"
          ],
          "name": "stdout"
        }
      ]
    },
    {
      "cell_type": "markdown",
      "metadata": {
        "id": "1Eltzu1T-5Bn"
      },
      "source": [
        "## **Variables**"
      ]
    },
    {
      "cell_type": "markdown",
      "metadata": {
        "id": "MDQubwmjCZ-M"
      },
      "source": [
        "Declaring a variable"
      ]
    },
    {
      "cell_type": "code",
      "metadata": {
        "colab": {
          "base_uri": "https://localhost:8080/"
        },
        "id": "0YX5TlI8-L_W",
        "outputId": "07e884de-ab72-4763-ba50-29b7a6cbdc6e"
      },
      "source": [
        "msg = 'Hello World'\n",
        "print(msg)"
      ],
      "execution_count": null,
      "outputs": [
        {
          "output_type": "stream",
          "text": [
            "Hello World\n"
          ],
          "name": "stdout"
        }
      ]
    },
    {
      "cell_type": "markdown",
      "metadata": {
        "id": "t8t9Zz_uCdFX"
      },
      "source": [
        "Redeclaring a variable"
      ]
    },
    {
      "cell_type": "code",
      "metadata": {
        "colab": {
          "base_uri": "https://localhost:8080/"
        },
        "id": "Fe7gHD3f-9lM",
        "outputId": "22bc4764-1f66-45a0-ad65-8d05db360394"
      },
      "source": [
        "a = 0\n",
        "print(a)\n",
        "a = 252\n",
        "print(a)"
      ],
      "execution_count": null,
      "outputs": [
        {
          "output_type": "stream",
          "text": [
            "0\n",
            "252\n"
          ],
          "name": "stdout"
        }
      ]
    },
    {
      "cell_type": "markdown",
      "metadata": {
        "id": "oMZrt_ooCmj5"
      },
      "source": [
        "Taking inputs for variables"
      ]
    },
    {
      "cell_type": "code",
      "metadata": {
        "colab": {
          "base_uri": "https://localhost:8080/"
        },
        "id": "lpG3UAWyCE9W",
        "outputId": "4bc1466e-b2d3-47f4-df38-ed2be8caad4b"
      },
      "source": [
        "a = input()\n",
        "b = input()\n",
        "print(a+b)\n",
        "type(a)"
      ],
      "execution_count": null,
      "outputs": [
        {
          "output_type": "stream",
          "text": [
            "5\n",
            "4\n",
            "54\n"
          ],
          "name": "stdout"
        },
        {
          "output_type": "execute_result",
          "data": {
            "text/plain": [
              "str"
            ]
          },
          "metadata": {
            "tags": []
          },
          "execution_count": 20
        }
      ]
    },
    {
      "cell_type": "code",
      "metadata": {
        "colab": {
          "base_uri": "https://localhost:8080/"
        },
        "id": "fi-b_vjQCtkq",
        "outputId": "d41434c2-85c9-4f18-9ffc-b5d67019dac0"
      },
      "source": [
        "a = eval(input())\n",
        "b = eval(input())\n",
        "print(a+b)\n",
        "type(a)"
      ],
      "execution_count": null,
      "outputs": [
        {
          "output_type": "stream",
          "text": [
            "5\n",
            "4\n",
            "9\n"
          ],
          "name": "stdout"
        },
        {
          "output_type": "execute_result",
          "data": {
            "text/plain": [
              "int"
            ]
          },
          "metadata": {
            "tags": []
          },
          "execution_count": 19
        }
      ]
    },
    {
      "cell_type": "markdown",
      "metadata": {
        "id": "iye6HfgDBSKZ"
      },
      "source": [
        "#LISTS"
      ]
    },
    {
      "cell_type": "code",
      "metadata": {
        "id": "mbe2E4zYBRq8"
      },
      "source": [
        "a = [1,2,3]\n",
        "print(a)\n",
        "type(a)"
      ],
      "execution_count": null,
      "outputs": []
    },
    {
      "cell_type": "markdown",
      "metadata": {
        "id": "6WYw_pd_mFxX"
      },
      "source": [
        "#LOOPS"
      ]
    },
    {
      "cell_type": "markdown",
      "metadata": {
        "id": "cG0guap369dl"
      },
      "source": [
        "WHILE loop"
      ]
    },
    {
      "cell_type": "code",
      "metadata": {
        "colab": {
          "base_uri": "https://localhost:8080/"
        },
        "id": "5N7vEuSt6i3m",
        "outputId": "b4a0ce3c-4e92-40f5-dd94-db5376a8f2e8"
      },
      "source": [
        "current_value = 1\n",
        "while current_value <= 5:\n",
        " print(current_value)\n",
        " current_value += 1"
      ],
      "execution_count": null,
      "outputs": [
        {
          "output_type": "stream",
          "text": [
            "1\n",
            "2\n",
            "3\n",
            "4\n",
            "5\n"
          ],
          "name": "stdout"
        }
      ]
    },
    {
      "cell_type": "code",
      "metadata": {
        "colab": {
          "base_uri": "https://localhost:8080/"
        },
        "id": "JD5s_4FE8Rn_",
        "outputId": "1504bda5-f28d-4254-feec-05c48238518d"
      },
      "source": [
        "msg = ''\n",
        "while msg != 'quit':\n",
        " msg = input(\"What's your message? \")\n",
        " print(msg)"
      ],
      "execution_count": null,
      "outputs": [
        {
          "output_type": "stream",
          "text": [
            "What's your message? quit\n",
            "quit\n"
          ],
          "name": "stdout"
        }
      ]
    },
    {
      "cell_type": "markdown",
      "metadata": {
        "id": "XT9bQZoJ9GG7"
      },
      "source": [
        "FOR loop"
      ]
    },
    {
      "cell_type": "code",
      "metadata": {
        "colab": {
          "base_uri": "https://localhost:8080/"
        },
        "id": "igLw0Cx28Uzw",
        "outputId": "441589bf-0c59-4565-ac83-6771c2ecb476"
      },
      "source": [
        "for i in range(5):\n",
        "  print (i)"
      ],
      "execution_count": null,
      "outputs": [
        {
          "output_type": "stream",
          "text": [
            "0\n",
            "1\n",
            "2\n",
            "3\n",
            "4\n"
          ],
          "name": "stdout"
        }
      ]
    },
    {
      "cell_type": "markdown",
      "metadata": {
        "id": "IwMQRHcSYiKy"
      },
      "source": [
        "**PATTERNS**"
      ]
    },
    {
      "cell_type": "code",
      "metadata": {
        "id": "NYcIKuYgZUcn",
        "colab": {
          "base_uri": "https://localhost:8080/"
        },
        "outputId": "1099e1eb-58fb-475b-e879-5fd4450a56b4"
      },
      "source": [
        "rows = eval(input())\n",
        "for i in range(rows):\n",
        "  for j in range(i):\n",
        "    print(i, end=\" \")\n",
        "  print(\" \")"
      ],
      "execution_count": 6,
      "outputs": [
        {
          "output_type": "stream",
          "text": [
            "6\n",
            " \n",
            "1  \n",
            "2 2  \n",
            "3 3 3  \n",
            "4 4 4 4  \n",
            "5 5 5 5 5  \n"
          ],
          "name": "stdout"
        }
      ]
    },
    {
      "cell_type": "markdown",
      "metadata": {
        "id": "Qoc15XecXvqN"
      },
      "source": [
        "**HOMEWORK**"
      ]
    },
    {
      "cell_type": "markdown",
      "metadata": {
        "id": "6G9wEh6hX05S"
      },
      "source": [
        "1. print\n",
        "   1\n",
        "   1 2\n",
        "   1 2 3\n",
        "   1 2 3 4\n",
        "   1 2 3 4 5\n",
        "2. print\n",
        "   1 2 3 4 5\n",
        "   1 2 3 4\n",
        "   1 2 3\n",
        "   1 2\n",
        "   1"
      ]
    },
    {
      "cell_type": "markdown",
      "metadata": {
        "id": "po6WlhGIX0nl"
      },
      "source": [
        "#CONDITIONALS\n"
      ]
    },
    {
      "cell_type": "markdown",
      "metadata": {
        "id": "X2IWWGbBa39e"
      },
      "source": [
        "**IF, ELSE, ELSE IF(ELIF)**"
      ]
    },
    {
      "cell_type": "code",
      "metadata": {
        "colab": {
          "base_uri": "https://localhost:8080/"
        },
        "id": "O50YkXdFXPFH",
        "outputId": "d03a5771-40d1-472b-fd1d-a592b8a2e2f8"
      },
      "source": [
        "a = eval(input())\n",
        "b = eval(input())\n",
        "if a<b:\n",
        "  {print(\"a is less than b\")}\n",
        "else:\n",
        "  {print(\"a is greater than b\")}"
      ],
      "execution_count": 7,
      "outputs": [
        {
          "output_type": "stream",
          "text": [
            "5\n",
            "4\n",
            "a is greater than b\n"
          ],
          "name": "stdout"
        }
      ]
    },
    {
      "cell_type": "code",
      "metadata": {
        "colab": {
          "base_uri": "https://localhost:8080/"
        },
        "id": "SxPnrYfwa4_E",
        "outputId": "0a4a73ca-2aca-4bce-bd22-2b71c45c722f"
      },
      "source": [
        "a = eval(input())\n",
        "b = eval(input())\n",
        "if a<b:\n",
        "  {print(b-a)}\n",
        "else:\n",
        "  {print(a-b)}"
      ],
      "execution_count": 9,
      "outputs": [
        {
          "output_type": "stream",
          "text": [
            "5\n",
            "4\n",
            "1\n"
          ],
          "name": "stdout"
        }
      ]
    },
    {
      "cell_type": "code",
      "metadata": {
        "colab": {
          "base_uri": "https://localhost:8080/"
        },
        "id": "N0gps3KPbFCV",
        "outputId": "32a1baa9-7552-4ec2-e5b2-3ed16abb23ca"
      },
      "source": [
        "a = eval(input())\n",
        "b = eval(input())\n",
        "if a<b:\n",
        "  print(\"a is less than b\")\n",
        "elif a>b:\n",
        "  print(\"a is greater than b\")\n",
        "else:\n",
        "  print(\"a is equal to b\")"
      ],
      "execution_count": 11,
      "outputs": [
        {
          "output_type": "stream",
          "text": [
            "5\n",
            "5\n",
            "a is equal to b\n"
          ],
          "name": "stdout"
        }
      ]
    },
    {
      "cell_type": "markdown",
      "metadata": {
        "id": "_mxDaWkIfDpt"
      },
      "source": [
        "#**FUNCTIONS**"
      ]
    },
    {
      "cell_type": "code",
      "metadata": {
        "colab": {
          "base_uri": "https://localhost:8080/"
        },
        "id": "MW65hNg9bICa",
        "outputId": "584bd9d5-9aa7-4589-aa67-0099d20063d0"
      },
      "source": [
        "def evenOdd(x):\n",
        "    if (x % 2 == 0):\n",
        "        print(\"even\")\n",
        "    else:\n",
        "        print(\"odd\")\n",
        "evenOdd(2)\n",
        "evenOdd(3)"
      ],
      "execution_count": 13,
      "outputs": [
        {
          "output_type": "stream",
          "text": [
            "even\n",
            "odd\n"
          ],
          "name": "stdout"
        }
      ]
    },
    {
      "cell_type": "code",
      "metadata": {
        "id": "qrFpI4bwfyIE"
      },
      "source": [
        ""
      ],
      "execution_count": null,
      "outputs": []
    }
  ]
}